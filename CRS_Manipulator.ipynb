{
 "cells": [
  {
   "cell_type": "markdown",
   "id": "c1e15827",
   "metadata": {},
   "source": [
    "#### Convert WGS84 coordinates to UTM Zone 16N\n",
    "- If you donot have shapely or pyproj, please install the following to run this notebook locally <code>!pip install pyproj</code>, <code>!pip install shapely</code>\n"
   ]
  },
  {
   "cell_type": "code",
   "execution_count": 3,
   "id": "11ef696e",
   "metadata": {},
   "outputs": [],
   "source": [
    "import pyproj\n",
    "from pyproj import CRS\n",
    "from shapely import Point"
   ]
  },
  {
   "cell_type": "markdown",
   "id": "f3cbca55",
   "metadata": {},
   "source": [
    "#### Function converts point from WGS 84 to UTM Zone 16N WKT (Well-Known Text)\n",
    "- Open <a href = \"https://www.google.com/maps\">Google Maps</a> right on any location in Madison, WI. Copy the coordinates (lat, lon) as (lon, lat) and paste them as is into the function and it would give Well-Known Text (WKT) output which can be used for spatial querying in PostgreSQL."
   ]
  },
  {
   "cell_type": "code",
   "execution_count": 15,
   "id": "ab994b27",
   "metadata": {},
   "outputs": [],
   "source": [
    "def point_wgs84_utm16N_wkt(lon, lat):\n",
    "    input_crs = pyproj.CRS(\"EPSG:4326\")\n",
    "    output_crs = pyproj.CRS(\"EPSG:32616\")\n",
    "    transformer = pyproj.Transformer.from_crs(input_crs, output_crs, always_xy=True)\n",
    "    lon_proj, lat_proj = transformer.transform(lon, lat)\n",
    "    point = Point(lon_proj, lat_proj)\n",
    "    wkt = point.wkt\n",
    "    print(wkt)"
   ]
  },
  {
   "cell_type": "code",
   "execution_count": 16,
   "id": "7b1c187d",
   "metadata": {},
   "outputs": [
    {
     "name": "stdout",
     "output_type": "stream",
     "text": [
      "POINT (305582.7152225829 4772189.289749355)\n"
     ]
    }
   ],
   "source": [
    "point_wgs84_utm16N_wkt(-89.3882, 43.0775)"
   ]
  },
  {
   "cell_type": "code",
   "execution_count": 17,
   "id": "47999303",
   "metadata": {},
   "outputs": [
    {
     "name": "stdout",
     "output_type": "stream",
     "text": [
      "POINT (311934.10207856126 4778415.035320358)\n"
     ]
    }
   ],
   "source": [
    "point_wgs84_utm16N_wkt(-89.31235210579085, 43.13511787036878)"
   ]
  },
  {
   "cell_type": "code",
   "execution_count": null,
   "id": "e7ba192c",
   "metadata": {},
   "outputs": [],
   "source": []
  }
 ],
 "metadata": {
  "kernelspec": {
   "display_name": "Python 3 (ipykernel)",
   "language": "python",
   "name": "python3"
  },
  "language_info": {
   "codemirror_mode": {
    "name": "ipython",
    "version": 3
   },
   "file_extension": ".py",
   "mimetype": "text/x-python",
   "name": "python",
   "nbconvert_exporter": "python",
   "pygments_lexer": "ipython3",
   "version": "3.9.16"
  }
 },
 "nbformat": 4,
 "nbformat_minor": 5
}
